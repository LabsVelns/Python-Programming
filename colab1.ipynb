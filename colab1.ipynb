{
  "nbformat": 4,
  "nbformat_minor": 0,
  "metadata": {
    "colab": {
      "provenance": [],
      "authorship_tag": "ABX9TyMKTGh4dZYaWL8Mpjy3FOFa",
      "include_colab_link": true
    },
    "kernelspec": {
      "name": "python3",
      "display_name": "Python 3"
    },
    "language_info": {
      "name": "python"
    }
  },
  "cells": [
    {
      "cell_type": "markdown",
      "metadata": {
        "id": "view-in-github",
        "colab_type": "text"
      },
      "source": [
        "<a href=\"https://colab.research.google.com/github/LabsVelns/Python-Programming/blob/main/colab1.ipynb\" target=\"_parent\"><img src=\"https://colab.research.google.com/assets/colab-badge.svg\" alt=\"Open In Colab\"/></a>"
      ]
    },
    {
      "cell_type": "markdown",
      "source": [
        "##Start"
      ],
      "metadata": {
        "id": "Ol372gB7_ixM"
      }
    },
    {
      "cell_type": "code",
      "source": [],
      "metadata": {
        "id": "YYTTsveH_l5t"
      },
      "execution_count": null,
      "outputs": []
    }
  ]
}