{
  "nbformat": 4,
  "nbformat_minor": 0,
  "metadata": {
    "colab": {
      "provenance": [],
      "authorship_tag": "ABX9TyP0WaxUKI/8W9TwAWiAlNvC",
      "include_colab_link": true
    },
    "kernelspec": {
      "name": "python3",
      "display_name": "Python 3"
    },
    "language_info": {
      "name": "python"
    }
  },
  "cells": [
    {
      "cell_type": "markdown",
      "metadata": {
        "id": "view-in-github",
        "colab_type": "text"
      },
      "source": [
        "<a href=\"https://colab.research.google.com/github/LabsVelns/Python-Programming/blob/main/Excercise_1.ipynb\" target=\"_parent\"><img src=\"https://colab.research.google.com/assets/colab-badge.svg\" alt=\"Open In Colab\"/></a>"
      ]
    },
    {
      "cell_type": "markdown",
      "source": [
        "###Q1 Write a Python program which accept the radius of a circle from the user and compute the area."
      ],
      "metadata": {
        "id": "u_wEEPLY9tYp"
      }
    },
    {
      "cell_type": "code",
      "source": [
        "import math\n",
        "x = int(input(\"Enter the radius of Circle =\"))\n",
        "pi = math.pi\n",
        "print (\"Area of Circle =\",pi*x**2)"
      ],
      "metadata": {
        "colab": {
          "base_uri": "https://localhost:8080/"
        },
        "id": "-zWN_bNY-oSL",
        "outputId": "55524990-9724-49d4-9050-7b42c05eedd2"
      },
      "execution_count": 7,
      "outputs": [
        {
          "output_type": "stream",
          "name": "stdout",
          "text": [
            "Enter the radius of Circle =2\n",
            "Area of Circle = 12.566370614359172\n"
          ]
        }
      ]
    },
    {
      "cell_type": "markdown",
      "source": [
        "###Q2 Temperature of a city in Fahrenheit degrees is input through the keyboard. Write a program to convert this temperature into Centigrade degrees."
      ],
      "metadata": {
        "id": "Dy4yD4qUCDis"
      }
    },
    {
      "cell_type": "code",
      "source": [
        "x = float(input(\"Enter the Temperature = \"))\n",
        "print (\"Temperature in Centigrade = \", (x-32) * 5/9)"
      ],
      "metadata": {
        "colab": {
          "base_uri": "https://localhost:8080/"
        },
        "id": "mWdVxVj0CMjs",
        "outputId": "29e7eac0-ee30-4686-aab8-b250a0addc94"
      },
      "execution_count": 9,
      "outputs": [
        {
          "output_type": "stream",
          "name": "stdout",
          "text": [
            "Enter the Temperature = 5\n",
            "Temperature in Centigrade =  -15.0\n"
          ]
        }
      ]
    },
    {
      "cell_type": "markdown",
      "source": [
        "###Q3 Write a Python Program to make a simple calculator that can add, subtract, multiply and divide"
      ],
      "metadata": {
        "id": "rcIe9E7lDsu_"
      }
    },
    {
      "cell_type": "code",
      "source": [
        "a= float(input(\"Enter 1st number = \"))\n",
        "b= float(input(\"Enter 2nd number = \"))\n",
        "c = int(input(\" 1.Addition \\n 2.Substraction \\n 3.Multiplication\\n 4.Division\\n\"))\n",
        "if (c==1):\n",
        "  print(a+b)\n",
        "elif (c==2):\n",
        "  print(a-b)\n",
        "elif (c==3):\n",
        "  print(a*b)\n",
        "elif(c==4) :\n",
        "  print(a/b)\n",
        "else :\n",
        "  print(\"Invalid Input\")      "
      ],
      "metadata": {
        "colab": {
          "base_uri": "https://localhost:8080/"
        },
        "id": "BmLHsWmHDzXp",
        "outputId": "1d117992-cf69-4c4d-e930-bf5388849703"
      },
      "execution_count": 14,
      "outputs": [
        {
          "output_type": "stream",
          "name": "stdout",
          "text": [
            "Enter 1st number = 1\n",
            "Enter 2nd number = 9\n",
            " 1.Addition \n",
            " 2.Substraction \n",
            " 3.Multiplication\n",
            " 4.Division\n",
            "1\n",
            "10.0\n"
          ]
        }
      ]
    },
    {
      "cell_type": "markdown",
      "source": [
        "###Q4 Write a Python Program to calculate the square root"
      ],
      "metadata": {
        "id": "Bl49h3TTIukf"
      }
    },
    {
      "cell_type": "code",
      "source": [
        "import math \n",
        "x =float(input(\"Enter the Number = \"))\n",
        "print(\"Square Root of given number = \", math.sqrt(x))"
      ],
      "metadata": {
        "colab": {
          "base_uri": "https://localhost:8080/"
        },
        "id": "j2ghhDy1I2dc",
        "outputId": "867ac57b-5e65-4681-a7e1-62a1031ad0aa"
      },
      "execution_count": 15,
      "outputs": [
        {
          "output_type": "stream",
          "name": "stdout",
          "text": [
            "Enter the Number = 36\n",
            "Square Root of given number =  6.0\n"
          ]
        }
      ]
    },
    {
      "cell_type": "markdown",
      "source": [
        "###Q5 Write a Python Program to Solve the quadratic equation ax**2 + bx + c = 0\n",
        "###Coeffients a, b and c are provided by the user [Hint: import complex math module - import cmath]"
      ],
      "metadata": {
        "id": "pwKe6e4wJh5H"
      }
    },
    {
      "cell_type": "code",
      "source": [
        "import cmath\n",
        "a= float(input(\"Enter the 1st Coefficient =\"))\n",
        "b= float(input(\"Enter the 2nd Coefficient =\"))\n",
        "c= float(input(\"Enter the 3rd Coefficient =\"))\n",
        "print(\"Squareroots of given quadratic equations are = \",(-b+cmath.sqrt(b**2 - 2*a*c))/2*a*c )"
      ],
      "metadata": {
        "colab": {
          "base_uri": "https://localhost:8080/"
        },
        "id": "jPJI4y99Jn1_",
        "outputId": "178f4b69-ce99-4f68-9cdc-da30db1a63a9"
      },
      "execution_count": 18,
      "outputs": [
        {
          "output_type": "stream",
          "name": "stdout",
          "text": [
            "Enter the 1st Coefficient =5\n",
            "Enter the 2nd Coefficient =36\n",
            "Enter the 3rd Coefficient =48\n",
            "Squareroots of given quadratic equations are =  (-892.1143542994319+0j)\n"
          ]
        }
      ]
    },
    {
      "cell_type": "markdown",
      "source": [
        "###Q6 Write a Python Program to find the area of triangle Three sides of the triangle a, b and c are provided by the user"
      ],
      "metadata": {
        "id": "7G00yTymLgn-"
      }
    },
    {
      "cell_type": "code",
      "source": [
        "import cmath\n",
        "a= float(input(\"Enter the 1st side =\"))\n",
        "b= float(input(\"Enter the 2nd side =\"))\n",
        "c= float(input(\"Enter the 3rd Side =\"))\n",
        "s = (a+c+b)/2\n",
        "print(\"Area of Triangle =\",cmath.sqrt(s*(s-a)*(s-b)*(s-c)))"
      ],
      "metadata": {
        "colab": {
          "base_uri": "https://localhost:8080/"
        },
        "id": "tYXaBVhULrMc",
        "outputId": "c4c29e17-ceb9-4817-cc26-8c7c9d087948"
      },
      "execution_count": 20,
      "outputs": [
        {
          "output_type": "stream",
          "name": "stdout",
          "text": [
            "Enter the 1st side =5\n",
            "Enter the 2nd side =5\n",
            "Enter the 3rd Side =5\n",
            "Area of Triangle = (10.825317547305483+0j)\n"
          ]
        }
      ]
    },
    {
      "cell_type": "markdown",
      "source": [
        "###Q7 If a five-digit number is input through the keyboard, write a program to calculate the sum of its digits without using any loop. (Hint: Use the modulus operator ‘%’)"
      ],
      "metadata": {
        "id": "yqjmcOFqNS6U"
      }
    },
    {
      "cell_type": "code",
      "source": [
        "x = int(input(\"Enter a 5 digit number = \"))\n",
        "num1 = x%10\n",
        "num2 = x/10\n",
        "\n",
        "num3 = num2%10\n",
        "num4 = num2/10\n",
        "\n",
        "num5 = num4%10\n",
        "num6 = num4/10\n",
        "\n",
        "num7 = num6%10\n",
        "num8 = num6/10\n",
        "num9 = num8%10\n",
        "\n",
        "print(\"Sum of 5 digits of given number = %d\" % (num1+num3+num5+num7+num9))"
      ],
      "metadata": {
        "colab": {
          "base_uri": "https://localhost:8080/"
        },
        "id": "FtV5iwLoNbHh",
        "outputId": "5f3b3a80-2cd8-40ce-c842-c225723905f7"
      },
      "execution_count": 26,
      "outputs": [
        {
          "output_type": "stream",
          "name": "stdout",
          "text": [
            "Enter a 5 digit number = 11111\n",
            "Sum of 5 digits of given number = 5\n"
          ]
        }
      ]
    },
    {
      "cell_type": "markdown",
      "source": [
        "###Q8 Write a Python program to print the following string in a specific format"
      ],
      "metadata": {
        "id": "L2L5TGUIRPEf"
      }
    },
    {
      "cell_type": "code",
      "source": [
        "print(\"Twinkle, twinkle, little star,\\n\\\n",
        "\\tHow I wonder what you are!\\n\\\n",
        "\\t\\tUp above the world so high,\\n\\\n",
        "\\t\\tLike a diamond in the sky\\n\\\n",
        "Twinkle, twinkle, little star,\\n\\\n",
        "\\tHow I wonder what you are!\")"
      ],
      "metadata": {
        "colab": {
          "base_uri": "https://localhost:8080/"
        },
        "id": "5uYgHsDiRYrp",
        "outputId": "b4350d92-6c2f-4f23-ac53-91fa3edf7db5"
      },
      "execution_count": 27,
      "outputs": [
        {
          "output_type": "stream",
          "name": "stdout",
          "text": [
            "Twinkle, twinkle, little star,\n",
            "\tHow I wonder what you are!\n",
            "\t\tUp above the world so high,\n",
            "\t\tLike a diamond in the sky\n",
            "Twinkle, twinkle, little star,\n",
            "\tHow I wonder what you are!\n"
          ]
        }
      ]
    },
    {
      "cell_type": "markdown",
      "source": [
        "###Q9 Write a Python program to display your details like name, age, address in three different lines."
      ],
      "metadata": {
        "id": "IRQa-cUSSsB5"
      }
    },
    {
      "cell_type": "code",
      "source": [
        "print(\" Name-Harshad Mane \\n Age = 22 \\n Address-Rahul Garden, Kaviltali, Chiplun\")"
      ],
      "metadata": {
        "colab": {
          "base_uri": "https://localhost:8080/"
        },
        "id": "ocRa0WdVSxLw",
        "outputId": "8ed5cff4-b62b-4881-a6b9-4f55ea686dda"
      },
      "execution_count": 30,
      "outputs": [
        {
          "output_type": "stream",
          "name": "stdout",
          "text": [
            " Name-Harshad Mane \n",
            " Age = 22 \n",
            " Address-Rahul Garden, Kaviltali, Chiplun\n"
          ]
        }
      ]
    },
    {
      "cell_type": "markdown",
      "source": [
        "###Q10 Create a string containing both a single quote and double quote"
      ],
      "metadata": {
        "id": "s_PL5BPRTPYe"
      }
    },
    {
      "cell_type": "code",
      "source": [
        "print(\"''\")\n",
        "print('\"\"')"
      ],
      "metadata": {
        "colab": {
          "base_uri": "https://localhost:8080/"
        },
        "id": "UqnJUXuSTWIm",
        "outputId": "e18945f8-e9fb-4d78-998b-c84f5bc9013f"
      },
      "execution_count": 33,
      "outputs": [
        {
          "output_type": "stream",
          "name": "stdout",
          "text": [
            "''\n",
            "\"\"\n"
          ]
        }
      ]
    },
    {
      "cell_type": "markdown",
      "source": [
        "###Q11 Create a triple quoted string that contains single and double quotes."
      ],
      "metadata": {
        "id": "RO8tXRlCTvk-"
      }
    },
    {
      "cell_type": "code",
      "source": [
        "print('''  ' \"   ''')"
      ],
      "metadata": {
        "colab": {
          "base_uri": "https://localhost:8080/"
        },
        "id": "K0QCslXRTzVR",
        "outputId": "60b122b7-26c7-479f-9b55-5d69cecdf313"
      },
      "execution_count": 35,
      "outputs": [
        {
          "output_type": "stream",
          "name": "stdout",
          "text": [
            "  ' \"   \n"
          ]
        }
      ]
    },
    {
      "cell_type": "markdown",
      "source": [
        "###Q12 Create a character, then obtain its integer representation."
      ],
      "metadata": {
        "id": "_zQHwuUuUA-j"
      }
    },
    {
      "cell_type": "code",
      "source": [
        "a = input(\"Enter a Character = \")\n",
        "b = print(ord(a))"
      ],
      "metadata": {
        "colab": {
          "base_uri": "https://localhost:8080/"
        },
        "id": "-z7BVn8jT6Ah",
        "outputId": "1be673b6-a45c-4885-8e0f-8516ba16187b"
      },
      "execution_count": 45,
      "outputs": [
        {
          "output_type": "stream",
          "name": "stdout",
          "text": [
            "Enter a Character = d\n",
            "100\n"
          ]
        }
      ]
    },
    {
      "cell_type": "markdown",
      "source": [
        "###Q13 Create a single string containing 5 copies of the string &#39;abc&#39;."
      ],
      "metadata": {
        "id": "OQWlwKcAV6fo"
      }
    },
    {
      "cell_type": "code",
      "source": [
        "x = print(\"abc\"*5)"
      ],
      "metadata": {
        "colab": {
          "base_uri": "https://localhost:8080/"
        },
        "id": "xRTxnIppUzsW",
        "outputId": "d69c6acc-4826-40dc-f0a0-c1d12c1dd332"
      },
      "execution_count": 46,
      "outputs": [
        {
          "output_type": "stream",
          "name": "stdout",
          "text": [
            "abcabcabcabcabc\n"
          ]
        }
      ]
    },
    {
      "cell_type": "markdown",
      "source": [
        "###Q14 Use the multiplication operator to create a &quot;line&quot; of 50 dashes."
      ],
      "metadata": {
        "id": "vzuE0GqWWci9"
      }
    },
    {
      "cell_type": "code",
      "source": [
        "print(\"-\"*50)"
      ],
      "metadata": {
        "colab": {
          "base_uri": "https://localhost:8080/"
        },
        "id": "vJhQOlkBWach",
        "outputId": "f2635857-e2eb-4b39-e3f3-049f9c82929f"
      },
      "execution_count": 47,
      "outputs": [
        {
          "output_type": "stream",
          "name": "stdout",
          "text": [
            "--------------------------------------------------\n"
          ]
        }
      ]
    },
    {
      "cell_type": "markdown",
      "source": [
        "###Q15 Convert a string to all upper case."
      ],
      "metadata": {
        "id": "xzmKi7NXWsla"
      }
    },
    {
      "cell_type": "code",
      "source": [
        "x = 'abc'\n",
        "print (x.upper())"
      ],
      "metadata": {
        "colab": {
          "base_uri": "https://localhost:8080/"
        },
        "id": "8g-VM72iWqKf",
        "outputId": "3a9128b4-52b0-48e0-cb0c-59e756965a35"
      },
      "execution_count": 52,
      "outputs": [
        {
          "output_type": "stream",
          "name": "stdout",
          "text": [
            "ABC\n"
          ]
        }
      ]
    },
    {
      "cell_type": "markdown",
      "source": [
        "###Q16 : Write a Python program to get a string made of the first 2 and the last 2 chars from a given a string."
      ],
      "metadata": {
        "id": "e320ynhWZILd"
      }
    },
    {
      "cell_type": "code",
      "source": [
        "x = \"CDAC NOIDA\"\n",
        "print(x[:2],x[-2:])"
      ],
      "metadata": {
        "colab": {
          "base_uri": "https://localhost:8080/"
        },
        "id": "WnKoVbNHYlcP",
        "outputId": "c6e277ac-0c88-4d90-f4a4-b76dd134d85e"
      },
      "execution_count": 53,
      "outputs": [
        {
          "output_type": "stream",
          "name": "stdout",
          "text": [
            "CD DA\n"
          ]
        }
      ]
    },
    {
      "cell_type": "markdown",
      "source": [
        "###Q17: a Python program to get a string from a given string where all occurrences of its first char have been changed to |  except the first char itself.  Sample String : restart; Expected Result : resta|t;"
      ],
      "metadata": {
        "id": "zUdITrJ6Z8zu"
      }
    },
    {
      "cell_type": "code",
      "source": [
        "x = input(\"Enter a string -\")\n",
        "y = x[1:]\n",
        "z = y.replace(x[0],'$')\n",
        "print(x[0]+ z)"
      ],
      "metadata": {
        "colab": {
          "base_uri": "https://localhost:8080/"
        },
        "id": "6-EQ-YlzZ0qz",
        "outputId": "a7bee756-f8be-4b3e-ca70-ed54f84f52c6"
      },
      "execution_count": 59,
      "outputs": [
        {
          "output_type": "stream",
          "name": "stdout",
          "text": [
            "Enter a string -cdac cdac cdac\n",
            "cda$ $da$ $da$\n"
          ]
        }
      ]
    },
    {
      "cell_type": "markdown",
      "source": [
        "###Q18: Write a Python program to get a single string from two given strings, separated by a space and swap the first two characters of each string.\n",
        "###Sample String : 'abc','xyz' Expected Result : 'xyc abz'"
      ],
      "metadata": {
        "id": "mmelepl3eA3L"
      }
    },
    {
      "cell_type": "code",
      "source": [
        "x = input(\"Enter a string 1 - \")\n",
        "y = input(\"Enter a string 2 - \")\n",
        "print(y[:-1]+x[-1]+ \" \" +x[:-1]+y[-1])"
      ],
      "metadata": {
        "colab": {
          "base_uri": "https://localhost:8080/"
        },
        "id": "594FZyLEdPNW",
        "outputId": "09240bce-2262-4338-973b-2564018fdd88"
      },
      "execution_count": 61,
      "outputs": [
        {
          "output_type": "stream",
          "name": "stdout",
          "text": [
            "Enter a string 1 - xyz\n",
            "Enter a string 2 - abc\n",
            "abz xyc\n"
          ]
        }
      ]
    }
  ]
}